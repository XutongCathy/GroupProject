{
 "cells": [
  {
   "cell_type": "code",
   "execution_count": 1,
   "id": "acafb72f-86eb-47c8-a7b9-c36c2288982b",
   "metadata": {},
   "outputs": [],
   "source": [
    "import pandas as pd"
   ]
  },
  {
   "cell_type": "code",
   "execution_count": 2,
   "id": "10a059f0-cf88-4f28-b9b0-7fdc2d6fac40",
   "metadata": {},
   "outputs": [
    {
     "name": "stderr",
     "output_type": "stream",
     "text": [
      "F:\\anaconda\\lib\\site-packages\\IPython\\core\\interactiveshell.py:3165: DtypeWarning: Columns (20,31,32) have mixed types.Specify dtype option on import or set low_memory=False.\n",
      "  has_raised = await self.run_ast_nodes(code_ast.body, cell_name,\n"
     ]
    }
   ],
   "source": [
    "df = pd.read_csv(\"311_Service_Requests_2020.csv\")"
   ]
  },
  {
   "cell_type": "code",
   "execution_count": 19,
   "id": "6d370ddd-4b81-44be-a9b0-b4fd2fc38654",
   "metadata": {},
   "outputs": [],
   "source": [
    "df2 = df[df[\"Complaint Type\"]==\"Illegal Parking\"]"
   ]
  },
  {
   "cell_type": "code",
   "execution_count": 42,
   "id": "c4f35a49-6864-42d0-81c8-6b5ebef0e1de",
   "metadata": {},
   "outputs": [],
   "source": [
    "total_p = df2[\"Complaint Type\"].count()"
   ]
  },
  {
   "cell_type": "code",
   "execution_count": 43,
   "id": "b1687ce5-8e51-4f72-a813-96b0d1d31510",
   "metadata": {},
   "outputs": [],
   "source": [
    "total_ac = df[\"Complaint Type\"].count()"
   ]
  },
  {
   "cell_type": "code",
   "execution_count": 30,
   "id": "f0c87fdf-5eba-44c4-9c2b-c288169b4f6c",
   "metadata": {},
   "outputs": [],
   "source": [
    "df3 = df[df[\"Incident Zip\"] == 10027.0]"
   ]
  },
  {
   "cell_type": "code",
   "execution_count": 32,
   "id": "9ace14b8-f68c-4b80-9179-02d24db868da",
   "metadata": {},
   "outputs": [],
   "source": [
    "df4 = df3[df3[\"Complaint Type\"]==\"Illegal Parking\"]"
   ]
  },
  {
   "cell_type": "code",
   "execution_count": 44,
   "id": "685928ab-61a0-4e13-bd37-ac8652c831af",
   "metadata": {},
   "outputs": [],
   "source": [
    "zip_p = df4[\"Complaint Type\"].count()"
   ]
  },
  {
   "cell_type": "code",
   "execution_count": 45,
   "id": "735e3643-c46b-4e0b-9a46-9d366555ae20",
   "metadata": {},
   "outputs": [],
   "source": [
    "zip_ac = df3[\"Complaint Type\"].count()"
   ]
  },
  {
   "cell_type": "code",
   "execution_count": 49,
   "id": "94ab7348-54b7-4a0f-8858-669798d4db16",
   "metadata": {},
   "outputs": [],
   "source": [
    "total_frac = total_p/total_ac"
   ]
  },
  {
   "cell_type": "code",
   "execution_count": 50,
   "id": "af047c64-0e4d-458e-9807-8e8a993cf836",
   "metadata": {},
   "outputs": [],
   "source": [
    "zip_frac = zip_p/zip_ac"
   ]
  },
  {
   "cell_type": "code",
   "execution_count": 51,
   "id": "76e57968-ecaf-4e75-b245-5fa93e05f471",
   "metadata": {},
   "outputs": [],
   "source": [
    "if zip_frac > total_frac:\n",
    "    higher_parking_proportion = True\n",
    "if zip_frac < total_frac:\n",
    "    higher_parking_proportion = False"
   ]
  },
  {
   "cell_type": "code",
   "execution_count": 52,
   "id": "3150a4b9-f229-41a6-aa2d-e915659a9300",
   "metadata": {},
   "outputs": [
    {
     "data": {
      "text/plain": [
       "False"
      ]
     },
     "execution_count": 52,
     "metadata": {},
     "output_type": "execute_result"
    }
   ],
   "source": [
    "higher_parking_proportion"
   ]
  }
 ],
 "metadata": {
  "kernelspec": {
   "display_name": "Python 3",
   "language": "python",
   "name": "python3"
  },
  "language_info": {
   "codemirror_mode": {
    "name": "ipython",
    "version": 3
   },
   "file_extension": ".py",
   "mimetype": "text/x-python",
   "name": "python",
   "nbconvert_exporter": "python",
   "pygments_lexer": "ipython3",
   "version": "3.8.8"
  }
 },
 "nbformat": 4,
 "nbformat_minor": 5
}
